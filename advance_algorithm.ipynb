{
  "nbformat": 4,
  "nbformat_minor": 0,
  "metadata": {
    "colab": {
      "provenance": []
    },
    "kernelspec": {
      "name": "python3",
      "display_name": "Python 3"
    },
    "language_info": {
      "name": "python"
    }
  },
  "cells": [
    {
      "cell_type": "markdown",
      "source": [
        "MERGE SORT\n"
      ],
      "metadata": {
        "id": "NU4iadR_h44E"
      }
    },
    {
      "cell_type": "code",
      "execution_count": null,
      "metadata": {
        "colab": {
          "base_uri": "https://localhost:8080/"
        },
        "id": "wDwjOEyqf6be",
        "outputId": "1f9e843c-c5f0-45e1-887f-3f154bb4c01a"
      },
      "outputs": [
        {
          "output_type": "stream",
          "name": "stdout",
          "text": [
            "[1, 1, 2, 3, 3, 4, 5, 5, 5, 6, 9]\n"
          ]
        }
      ],
      "source": [
        "def merge_sort(arr):\n",
        "  if len(arr) <= 1:\n",
        "    return arr\n",
        "  mid = len(arr) // 2\n",
        "  left = arr[:mid]\n",
        "  right = arr[mid:]\n",
        "  left = merge_sort(left)\n",
        "  right = merge_sort(right)\n",
        "  return merge(left, right)\n",
        "def merge(left, right):\n",
        "  result = []\n",
        "  i = j = 0\n",
        "  while i < len(left) and j < len(right):\n",
        "    if left[i] < right[j]:\n",
        "      result.append(left[i])\n",
        "      i += 1\n",
        "    else:\n",
        "      result.append(right[j])\n",
        "      j += 1\n",
        "  result.extend(left[i:])\n",
        "  result.extend(right[j:])\n",
        "  return result\n",
        "arr = [3, 1, 4, 1, 5, 9, 2, 6, 5, 3, 5]\n",
        "sorted_arr = merge_sort(arr)\n",
        "print(sorted_arr)"
      ]
    },
    {
      "cell_type": "code",
      "source": [
        "def merge_sort(arr):\n",
        "    if len(arr) > 1:\n",
        "        mid = len(arr) // 2\n",
        "        left_half = arr[:mid]\n",
        "        right_half = arr[mid:]\n",
        "\n",
        "        merge_sort(left_half)\n",
        "        merge_sort(right_half)\n",
        "\n",
        "        i = j = k = 0\n",
        "\n",
        "        # Merge the two sorted halves\n",
        "        while i < len(left_half) and j < len(right_half):\n",
        "            if left_half[i] < right_half[j]:\n",
        "                arr[k] = left_half[i]\n",
        "                i += 1\n",
        "            else:\n",
        "                arr[k] = right_half[j]\n",
        "                j += 1\n",
        "            k += 1\n",
        "\n",
        "        while i < len(left_half):\n",
        "            arr[k] = left_half[i]\n",
        "            i += 1\n",
        "            k += 1\n",
        "\n",
        "        while j < len(right_half):\n",
        "            arr[k] = right_half[j]\n",
        "            j += 1\n",
        "            k += 1\n",
        "\n",
        "# Example usage:\n",
        "arr = [38, 27, 43, 3,3, 9, 82, 10]\n",
        "print(\"Original array:\", arr)\n",
        "merge_sort(arr)\n",
        "print(\"Sorted array:\", arr)"
      ],
      "metadata": {
        "colab": {
          "base_uri": "https://localhost:8080/"
        },
        "id": "24l9SnD0gFKq",
        "outputId": "9aec1a09-aa34-406a-9a1c-4860dc1cf14c"
      },
      "execution_count": null,
      "outputs": [
        {
          "output_type": "stream",
          "name": "stdout",
          "text": [
            "Original array: [38, 27, 43, 3, 3, 9, 82, 10]\n",
            "Sorted array: [3, 3, 9, 10, 27, 38, 43, 82]\n"
          ]
        }
      ]
    },
    {
      "cell_type": "markdown",
      "source": [
        "QUICK SORT"
      ],
      "metadata": {
        "id": "igYvsHVOiD7N"
      }
    },
    {
      "cell_type": "code",
      "source": [
        "def quick_sort(arr):\n",
        "  if len(arr) <= 1:\n",
        "    return arr\n",
        "  pivot = arr[len(arr) // 2]\n",
        "  left = [x for x in arr if x < pivot]\n",
        "  middle = [x for x in arr if x == pivot]\n",
        "  right = [x for x in arr if x > pivot]\n",
        "  return quick_sort(left) + middle + quick_sort(right)\n",
        "#example\n",
        "arr = [3, 1, 4, 1, 5, 9, 2, 6, 5, 3, 5]\n",
        "sorted_arr = quick_sort(arr)\n",
        "print(sorted_arr)"
      ],
      "metadata": {
        "colab": {
          "base_uri": "https://localhost:8080/"
        },
        "id": "YF_fafr5ga8n",
        "outputId": "23647744-0e42-4837-acb6-7ddd32954c35"
      },
      "execution_count": null,
      "outputs": [
        {
          "output_type": "stream",
          "name": "stdout",
          "text": [
            "[1, 1, 2, 3, 3, 4, 5, 5, 5, 6, 9]\n"
          ]
        }
      ]
    },
    {
      "cell_type": "markdown",
      "source": [
        " Given a sorted array and a number X, search two elements\n",
        "of the array such that their sum is X. Expected time\n",
        "complexity is O(n2 ) and O(n)."
      ],
      "metadata": {
        "id": "VQmAUs1TicVg"
      }
    },
    {
      "cell_type": "code",
      "source": [
        "#Solution 1: O(n^2) time complexity\n",
        "def find_pair_in_sorted_array_O_n_square(arr, X):\n",
        "  for i in range(len(arr)):\n",
        "    complement = X - arr[i]\n",
        "  for j in range(i + 1, len(arr)):\n",
        "    if arr[j] == complement:\n",
        "      return (arr[i], arr[j])\n",
        "  return None\n",
        "arr = [1, 3, 4, 5, 7, 9]\n",
        "X = 12\n",
        "\n",
        "pair1 = find_pair_in_sorted_array_O_n_square(arr, X)\n",
        "pair2 = find_pair_in_sorted_array_O_n_square(arr, X)\n",
        "print(f\"Pair 1: {pair1}\") # Output: Pair 1: (4, 8)\n",
        "print(f\"Pair 2: {pair2}\") # Output: Pair 2: (4, 8)\n"
      ],
      "metadata": {
        "colab": {
          "base_uri": "https://localhost:8080/"
        },
        "id": "Ka3WIUFJga5G",
        "outputId": "d887925b-f8a8-4d15-a1d4-00159b4299b8"
      },
      "execution_count": null,
      "outputs": [
        {
          "output_type": "stream",
          "name": "stdout",
          "text": [
            "Pair 1: None\n",
            "Pair 2: None\n"
          ]
        }
      ]
    },
    {
      "cell_type": "markdown",
      "source": [],
      "metadata": {
        "id": "TYJpGnYIiNdj"
      }
    },
    {
      "cell_type": "code",
      "source": [
        "#Solution 2: O(n) time complexity\n",
        "def find_pair_in_sorted_array_O_n(arr, X):\n",
        "  complements = {}\n",
        "  for i, num in enumerate(arr):\n",
        "    complement = X - num\n",
        "    if complement in complements:\n",
        "      return (num, complement)\n",
        "    complements[num] = i\n",
        "  return None\n",
        "#example\n",
        "arr = [1, 3, 4, 5, 7, 9]\n",
        "X = 12\n",
        "pair1 = find_pair_in_sorted_array_O_n(arr, X)\n",
        "pair2 = find_pair_in_sorted_array_O_n(arr, X)\n",
        "print(f\"Pair 1: {pair1}\") # Output: Pair 1: (4, 8)\n",
        "print(f\"Pair 2: {pair2}\") # Output: Pair 2: (4, 8)"
      ],
      "metadata": {
        "colab": {
          "base_uri": "https://localhost:8080/"
        },
        "id": "bmdv-m7-go7o",
        "outputId": "bdbbebce-45ca-46e9-aad5-806280da5f95"
      },
      "execution_count": null,
      "outputs": [
        {
          "output_type": "stream",
          "name": "stdout",
          "text": [
            "Pair 1: (7, 5)\n",
            "Pair 2: (7, 5)\n"
          ]
        }
      ]
    },
    {
      "cell_type": "markdown",
      "source": [
        "Given a sorted array and a number x, write a function that\n",
        "counts the occurrences of x in the array. Expected time\n",
        "complexity is O(n) and O(logn).\n"
      ],
      "metadata": {
        "id": "uICS1cRCifCr"
      }
    },
    {
      "cell_type": "code",
      "source": [
        "#Solution 1: O(n) time complexity\n",
        "def count_occurrences_in_sorted_array_O_n(arr, x):\n",
        "  count = 0\n",
        "  for num in arr:\n",
        "    if num == x:\n",
        "      count += 1\n",
        "  return count\n",
        "#example\n",
        "arr = [1, 3, 4, 5, 7, 9, 9, 9, 11]\n",
        "x = 9\n",
        "count1 = count_occurrences_in_sorted_array_O_n(arr, x)\n",
        "count2 = count_occurrences_in_sorted_array_O_n(arr, x)\n",
        "print(f\"Count 1: {count1}\") # Output: Count 1: 3\n",
        "print(f\"Count 2: {count2}\") # Output: Count 2: 3\n"
      ],
      "metadata": {
        "colab": {
          "base_uri": "https://localhost:8080/"
        },
        "id": "xwNWMtoWga2g",
        "outputId": "8626ac79-592c-4497-f6d5-537fa63b5dd6"
      },
      "execution_count": null,
      "outputs": [
        {
          "output_type": "stream",
          "name": "stdout",
          "text": [
            "Count 1: 3\n",
            "Count 2: 3\n"
          ]
        }
      ]
    },
    {
      "cell_type": "code",
      "source": [
        "def first_occurrence(arr, x):\n",
        "    low = 0\n",
        "    high = len(arr) - 1\n",
        "    first = -1\n",
        "\n",
        "    while low <= high:\n",
        "        mid = low + (high - low) // 2\n",
        "        if arr[mid] == x:\n",
        "            first = mid\n",
        "            high = mid - 1\n",
        "        elif arr[mid] < x:\n",
        "            low = mid + 1\n",
        "        else:\n",
        "            high = mid - 1\n",
        "\n",
        "    return first\n",
        "\n",
        "def last_occurrence(arr, x):\n",
        "    low = 0\n",
        "    high = len(arr) - 1\n",
        "    last = -1\n",
        "\n",
        "    while low <= high:\n",
        "        mid = low + (high - low) // 2\n",
        "        if arr[mid] == x:\n",
        "            last = mid\n",
        "            low = mid + 1\n",
        "        elif arr[mid] < x:\n",
        "            low = mid + 1\n",
        "        else:\n",
        "            high = mid - 1\n",
        "\n",
        "\n",
        "        return last\n",
        "\n",
        "\n",
        "def count_occurrences(arr, x):\n",
        "    first = first_occurrence(arr, x)\n",
        "    last = last_occurrence(arr, x)\n",
        "\n",
        "    if first == -1 or last == -1:\n",
        "        return 0\n",
        "    else:\n",
        "        return last - first + 1\n",
        "\n",
        "# Example usage:\n",
        "arr = [1, 2, 2, 2, 3, 3, 4, 4, 5, 5]\n",
        "x = 3\n",
        "print(\"Occurrences of\", x, \":\", count_occurrences(arr, x))"
      ],
      "metadata": {
        "colab": {
          "base_uri": "https://localhost:8080/"
        },
        "id": "HpcNAMd3gazz",
        "outputId": "03672f8b-00e3-45c0-a316-cc91001abeec"
      },
      "execution_count": null,
      "outputs": [
        {
          "output_type": "stream",
          "name": "stdout",
          "text": [
            "Occurrences of 3 : 1\n"
          ]
        }
      ]
    },
    {
      "cell_type": "markdown",
      "source": [
        " Implement Binary Search using Divide and Conquer."
      ],
      "metadata": {
        "id": "DRWvaNK0ivP_"
      }
    },
    {
      "cell_type": "code",
      "source": [
        "def binary_search(arr, low, high, target):\n",
        "  if low > high:\n",
        "    return -1\n",
        "  mid = (low + high) // 2\n",
        "  if arr[mid] == target:\n",
        "    return mid\n",
        "  elif arr[mid] < target:\n",
        "    return binary_search(arr, mid + 1, high, target)\n",
        "  else:\n",
        "    return binary_search(arr, low, mid - 1, target)\n",
        "#example\n",
        "arr = [1, 3, 4, 5, 7, 9, 11]\n",
        "x = 9\n",
        "index = binary_search(arr, 0, len(arr) - 1, x)\n",
        "if index != -1:\n",
        "  print(f\"{x} found at index {index}\")\n",
        "else:\n",
        "  print(f\"{x} not found in the array\")"
      ],
      "metadata": {
        "colab": {
          "base_uri": "https://localhost:8080/"
        },
        "id": "G41YN_6dgaw7",
        "outputId": "64aa84f1-0808-4d7f-fa05-550e7b80da6a"
      },
      "execution_count": null,
      "outputs": [
        {
          "output_type": "stream",
          "name": "stdout",
          "text": [
            "9 found at index 5\n"
          ]
        }
      ]
    },
    {
      "cell_type": "markdown",
      "source": [
        " Implement a greedy algorithm to solve the fractional knapsack problem."
      ],
      "metadata": {
        "id": "JbRS_RKvixax"
      }
    },
    {
      "cell_type": "code",
      "source": [
        "def fractional_knapsack(capacity, items):\n",
        "  items.sort(key=lambda x: x[1]/x[0], reverse=True)\n",
        "  total_value = 0\n",
        "  for item in items:\n",
        "    if capacity >= item[0]:\n",
        "      capacity -= item[0]\n",
        "      total_value += item[1]\n",
        "    else:\n",
        "      total_value += capacity * (item[1]/item[0])\n",
        "      break\n",
        "  return total_value\n",
        "#example\n",
        "items = [(2, 10), (3, 40), (1, 30), (4, 50)]\n",
        "capacity = 6\n",
        "value = fractional_knapsack(capacity, items)\n",
        "print(f\"Maximum value: {value}\")"
      ],
      "metadata": {
        "colab": {
          "base_uri": "https://localhost:8080/"
        },
        "id": "NI6iXB57gat8",
        "outputId": "a27dcaeb-19fd-46cc-b4da-b0bc9689f553"
      },
      "execution_count": null,
      "outputs": [
        {
          "output_type": "stream",
          "name": "stdout",
          "text": [
            "Maximum value: 95.0\n"
          ]
        }
      ]
    },
    {
      "cell_type": "markdown",
      "source": [
        "7. Find the largest and smallest number simultaneously in an array using Divide & Conquer Principle"
      ],
      "metadata": {
        "id": "m52Id94fi48A"
      }
    },
    {
      "cell_type": "code",
      "source": [
        "def find_min_max(arr, low, high):\n",
        "  if low == high:\n",
        "    return (arr[low], arr[low])\n",
        "  mid = (low + high) // 2\n",
        "  left_min, left_max = find_min_max(arr, low, mid)\n",
        "  right_min, right_max = find_min_max(arr, mid + 1, high)\n",
        "  return (min(left_min, right_min), max(left_max, right_max))\n",
        "#example\n",
        "arr = [1, 4, 2, 6, 8, 3, 5]\n",
        "min_num, max_num = find_min_max(arr, 0, len(arr) - 1)\n",
        "print(f\"Smallest number: {min_num}\")\n",
        "print(f\"Largest number: {max_num}\")"
      ],
      "metadata": {
        "colab": {
          "base_uri": "https://localhost:8080/"
        },
        "id": "VZkNhylxgarO",
        "outputId": "79d28426-4019-438a-afed-d2abbfd4bd7f"
      },
      "execution_count": null,
      "outputs": [
        {
          "output_type": "stream",
          "name": "stdout",
          "text": [
            "Smallest number: 1\n",
            "Largest number: 8\n"
          ]
        }
      ]
    },
    {
      "cell_type": "markdown",
      "source": [
        "8. Implement the greedy algorithm to solve the problem of the Job Sequencing with deadlines"
      ],
      "metadata": {
        "id": "w4NZGQf5i6Ro"
      }
    },
    {
      "cell_type": "code",
      "source": [
        "def job_sequencing_with_deadlines(jobs):\n",
        "    # Sort jobs based on their profits in descending order\n",
        "    jobs.sort(key=lambda x: x[2], reverse=True)\n",
        "\n",
        "    # Find the maximum deadline among all jobs\n",
        "    max_deadline = max(jobs, key=lambda x: x[1])[1]\n",
        "\n",
        "    # Initialize the schedule with slots up to the maximum deadline\n",
        "    schedule = [None] * (max_deadline + 1)\n",
        "\n",
        "    total_profit = 0\n",
        "    for job in jobs:\n",
        "        deadline = job[1]\n",
        "        # Find an available slot before the deadline\n",
        "        while deadline > 0 and schedule[deadline] is not None:\n",
        "            deadline -= 1\n",
        "        if deadline > 0:\n",
        "            schedule[deadline] = job[0]  # Assign the job to the slot\n",
        "            total_profit += job[2]  # Add the job's profit to total profit\n",
        "\n",
        "    return schedule, total_profit\n",
        "\n",
        "\n",
        "# Example usage:\n",
        "jobs_list = [('J1', 2, 40), ('J2', 1, 35), ('J3', 3, 30), ('J4', 1, 25), ('J5', 3, 20)]\n",
        "schedule_result, total_profit_result = job_sequencing_with_deadlines(jobs_list)\n",
        "print(\"Job Schedule:\", schedule_result)\n",
        "print(\"Total Profit:\", total_profit_result)"
      ],
      "metadata": {
        "colab": {
          "base_uri": "https://localhost:8080/"
        },
        "id": "gZciaWvEgaob",
        "outputId": "4142d3ee-3304-4840-b46a-fc5391bc7029"
      },
      "execution_count": null,
      "outputs": [
        {
          "output_type": "stream",
          "name": "stdout",
          "text": [
            "Job Schedule: [None, 'J2', 'J1', 'J3']\n",
            "Total Profit: 105\n"
          ]
        }
      ]
    },
    {
      "cell_type": "markdown",
      "source": [
        "9. Apply Strassen’s Matrix Multiplication strategy for odd dimensional square matrices.\n"
      ],
      "metadata": {
        "id": "OJntpYtZi-Nb"
      }
    },
    {
      "cell_type": "code",
      "source": [
        "import numpy as np\n",
        "\n",
        "def pad_matrix(matrix):\n",
        "    n = len(matrix)\n",
        "    new_size = n + 1 if n % 2 == 1 else n  # Ensure even size\n",
        "    padded_matrix = np.pad(matrix, ((0, new_size - n), (0, new_size - n)), mode='constant')\n",
        "    return padded_matrix\n",
        "\n",
        "def trim_matrix(matrix, original_size):\n",
        "    return matrix[:original_size, :original_size]\n",
        "\n",
        "def strassen_multiply(A, B):\n",
        "    n = len(A)\n",
        "\n",
        "    # Base case: If matrices are small, perform regular matrix multiplication\n",
        "    if n <= THRESHOLD:\n",
        "        return np.dot(A, B)\n",
        "\n",
        "    # Pad matrices if necessary to make them even-sized\n",
        "    if n % 2 == 1:\n",
        "        A = pad_matrix(A)\n",
        "        B = pad_matrix(B)\n",
        "\n",
        "    # Partition matrices\n",
        "    half_size = n // 2\n",
        "    A11, A12 = A[:half_size, :half_size], A[:half_size, half_size:]\n",
        "    A21, A22 = A[half_size:, :half_size], A[half_size:, half_size:]\n",
        "    B11, B12 = B[:half_size, :half_size], B[:half_size, half_size:]\n",
        "    B21, B22 = B[half_size:, :half_size], B[half_size:, half_size:]\n",
        "\n",
        "    # Compute intermediate matrices\n",
        "    M1 = strassen_multiply(A11 + A22, B11 + B22)\n",
        "    M2 = strassen_multiply(A21 + A22, B11)\n",
        "    M3 = strassen_multiply(A11, B12 - B22)\n",
        "    M4 = strassen_multiply(A22, B21 - B11)\n",
        "    M5 = strassen_multiply(A11 + A12, B22)\n",
        "    M6 = strassen_multiply(A21 - A11, B11 + B12)\n",
        "    M7 = strassen_multiply(A12 - A22, B21 + B22)\n",
        "\n",
        "    # Combine intermediate matrices to get result\n",
        "    C11 = M1 + M4 - M5 + M7\n",
        "    C12 = M3 + M5\n",
        "    C21 = M2 + M4\n",
        "    C22 = M1 - M2 + M3 + M6\n",
        "\n",
        "    # Combine result submatrices into final result\n",
        "    result = np.vstack((np.hstack((C11, C12)), np.hstack((C21, C22))))\n",
        "\n",
        "    # Trim extra rows/columns if matrices were padded\n",
        "    if n % 2 == 1:\n",
        "        result = trim_matrix(result, n)\n",
        "\n",
        "    return result\n",
        "\n",
        "# Example usage:\n",
        "THRESHOLD = 64  # Define threshold for base case\n",
        "A = np.array([[1, 2, 3], [4, 5, 6], [7, 8, 9]])\n",
        "B = np.array([[9, 8, 7], [6, 5, 4], [3, 2, 1]])\n",
        "result = strassen_multiply(A, B)\n",
        "print(result)"
      ],
      "metadata": {
        "colab": {
          "base_uri": "https://localhost:8080/"
        },
        "id": "kXPRP5Nhgad4",
        "outputId": "684e8892-3eab-4793-89d9-7f887e323004"
      },
      "execution_count": null,
      "outputs": [
        {
          "output_type": "stream",
          "name": "stdout",
          "text": [
            "[[ 30  24  18]\n",
            " [ 84  69  54]\n",
            " [138 114  90]]\n"
          ]
        }
      ]
    },
    {
      "cell_type": "markdown",
      "source": [
        "KMP String Matching: Given a text txt[0..n-1] and a pattern pat[0..m-1], write a function search(char pat[], char txt[]) that prints all occurrences of pat[] in txt[]. You may assume that n > m. Text: A A B A A C A A D A A B A A B A\n",
        "Pattern: A A B A."
      ],
      "metadata": {
        "id": "bLsUbUk0jCvv"
      }
    },
    {
      "cell_type": "code",
      "source": [
        "def compute_lps_array(pat, m):\n",
        "    lps = [0] * m\n",
        "    length = 0\n",
        "    i = 1\n",
        "    while i < m:\n",
        "        if pat[i] == pat[length]:\n",
        "            length += 1\n",
        "            lps[i] = length\n",
        "            i += 1\n",
        "        else:\n",
        "            if length != 0:\n",
        "                length = lps[length - 1]\n",
        "            else:\n",
        "                lps[i] = 0\n",
        "                i += 1\n",
        "    return lps\n",
        "\n",
        "def kmp_search(pat, txt):\n",
        "    n = len(txt)\n",
        "    m = len(pat)\n",
        "\n",
        "    lps = compute_lps_array(pat, m)\n",
        "\n",
        "    i = 0\n",
        "    j = 0\n",
        "    while i < n:\n",
        "        if pat[j] == txt[i]:\n",
        "            i += 1\n",
        "            j += 1\n",
        "        if j == m:\n",
        "            print(\"Pattern found at index\", i - j)\n",
        "            j = lps[j - 1]\n",
        "        elif i < n and pat[j] != txt[i]:\n",
        "            if j != 0:\n",
        "                j = lps[j - 1]\n",
        "            else:\n",
        "                i += 1\n",
        "\n",
        "# Example usage:\n",
        "txt = \"AABAACAADAAABAAABAA\"\n",
        "pat = \"AAB\"\n",
        "kmp_search(pat, txt)"
      ],
      "metadata": {
        "colab": {
          "base_uri": "https://localhost:8080/"
        },
        "id": "ShB2IUHShhMY",
        "outputId": "98e7b966-e4ff-468c-f9ca-d55646f64000"
      },
      "execution_count": null,
      "outputs": [
        {
          "output_type": "stream",
          "name": "stdout",
          "text": [
            "Pattern found at index 0\n",
            "Pattern found at index 10\n",
            "Pattern found at index 14\n"
          ]
        }
      ]
    },
    {
      "cell_type": "markdown",
      "source": [
        " Implement DP strategy to solve the Traveling Salesman Problem (TSP)."
      ],
      "metadata": {
        "id": "nsT7YQYPjJ9p"
      }
    },
    {
      "cell_type": "code",
      "source": [
        "import sys\n",
        "\n",
        "def tsp_dp(graph):\n",
        "    n = len(graph)\n",
        "    # Initialize the DP table with all nodes and no edges visited\n",
        "    dp = [[None] * (1 << n) for _ in range(n)]\n",
        "    start = 0  # Start from the first city\n",
        "\n",
        "    # Helper function to recursively find the shortest path\n",
        "    def dfs(node, visited):\n",
        "        # Base case: If all cities are visited, return the distance to start city\n",
        "        if visited == (1 << n) - 1:\n",
        "            return graph[node][start]\n",
        "        # If already computed, return the result\n",
        "        if dp[node][visited] is not None:\n",
        "            return dp[node][visited]\n",
        "\n",
        "        # Initialize the minimum distance to infinity\n",
        "        min_dist = sys.maxsize\n",
        "        for next_node in range(n):\n",
        "            # If next_node is not visited yet\n",
        "            if (visited & (1 << next_node)) == 0:\n",
        "                # Calculate the distance to next_node and add it to the total distance\n",
        "                dist = graph[node][next_node] + dfs(next_node, visited | (1 << next_node))\n",
        "                # Update the minimum distance\n",
        "                min_dist = min(min_dist, dist)\n",
        "\n",
        "        # Memoize the result\n",
        "        dp[node][visited] = min_dist\n",
        "        return min_dist\n",
        "\n",
        "    # Start the recursive search from the start node\n",
        "    return dfs(start, 1 << start)\n",
        "\n",
        "# Example usage:\n",
        "graph = [\n",
        "    [0, 10, 15, 20],\n",
        "    [10, 0, 35, 25],\n",
        "    [15, 35, 0, 30],\n",
        "    [20, 25, 30, 0]\n",
        "]\n",
        "print(\"Shortest path length:\", tsp_dp(graph))"
      ],
      "metadata": {
        "colab": {
          "base_uri": "https://localhost:8080/"
        },
        "id": "Brf_5N2rhhF6",
        "outputId": "f5997b66-0793-41bb-f8f6-1093f4345c01"
      },
      "execution_count": null,
      "outputs": [
        {
          "output_type": "stream",
          "name": "stdout",
          "text": [
            "Shortest path length: 80\n"
          ]
        }
      ]
    }
  ]
}